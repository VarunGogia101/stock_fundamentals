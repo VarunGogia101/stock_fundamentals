{
 "cells": [
  {
   "cell_type": "code",
   "execution_count": 1,
   "metadata": {},
   "outputs": [],
   "source": [
    "import pandas as pd\n",
    "import numpy as np"
   ]
  },
  {
   "cell_type": "code",
   "execution_count": 2,
   "metadata": {},
   "outputs": [],
   "source": [
    "df = pd.read_csv(\"data.csv\")"
   ]
  },
  {
   "cell_type": "code",
   "execution_count": 3,
   "metadata": {},
   "outputs": [],
   "source": [
    "df = df.replace(to_replace ='0?', \n",
    "                 value ='0')"
   ]
  },
  {
   "cell_type": "code",
   "execution_count": 4,
   "metadata": {},
   "outputs": [],
   "source": [
    "def check_null_values(df):\n",
    "    if df.isnull().any().any():\n",
    "        print(df.isnull().any())\n",
    "    else:\n",
    "        print('No null values present in Dataset')"
   ]
  },
  {
   "cell_type": "code",
   "execution_count": 5,
   "metadata": {},
   "outputs": [
    {
     "name": "stdout",
     "output_type": "stream",
     "text": [
      "No null values present in Dataset\n"
     ]
    }
   ],
   "source": [
    "check_null_values(df)"
   ]
  },
  {
   "cell_type": "code",
   "execution_count": 6,
   "metadata": {},
   "outputs": [
    {
     "name": "stdout",
     "output_type": "stream",
     "text": [
      "Dropping following columns due to high correlation\n",
      "['Non-Cash Items', 'Change in Working Capital', '(Increase) Decrease in Accounts Receivable', '(Increase) Decrease in Inventories', 'Increase (Decrease) in Other', 'Cash from Operating Activities', 'Change in Fixed Assets & Intangibles', 'Acquisition of Fixed Assets & Intangibles', 'Other Investing Activities', 'Dividends Paid', 'Repayments of Long Term Debt', 'Cash From (Repurchase of) Equity', 'Decrease in Capital Stock', 'Cash from Financing Activities', 'Net Cash Before Disc. Operations and FX', 'Net Cash Before FX', 'Net Changes in Cash', 'Revenue', 'Cost of revenue', 'Cost of Goods & Services', 'Gross Profit', 'Operating Expenses', 'Selling, General & Administrative', 'Operating Income (Loss)', 'Pretax Income (Loss), Adjusted', 'Abnormal Gains (Losses)', 'Pretax Income (Loss)', 'Income Tax (Expense) Benefit, net', 'Income (Loss) from Continuing Operations', 'Income (Loss) Including Minority Interest', 'Net Income', 'Net Income Available to Common Shareholders', 'Cash, Cash Equivalents & Short Term Investments', 'Cash & Cash Equivalents', 'Accounts & Notes Receivable', 'Accounts Receivable, Net', 'Inventories', 'Finished Goods', 'Other Short Term Assets', 'Deferred Tax Assets', 'Total Current Assets', 'Property, Plant & Equipment, Net', 'Property, Plant & Equipment', 'Other Long Term Assets', 'Goodwill', 'Other Intangible Assets', 'Investments in Affiliates', 'Miscellaneous Long Term Assets', 'Total Noncurrent Assets', 'Total Assets', 'Payables & Accruals', 'Accounts Payable', 'Accrued Taxes', 'Other Payables & Accruals', 'Other Short Term Liabilities', 'Deferred Tax Liabilities', 'Total Current Liabilities', 'Long Term Debt', 'Other Long Term Liabilities', 'Deferred Compensation', 'Miscellaneous Long Term Liabilities', 'Total Noncurrent Liabilities', 'Total Liabilities', 'Share Capital & Additional Paid-In Capital', 'Additional Paid in Capital', 'Treasury Stock', 'Retained Earnings', 'Other Equity', 'Equity Before Minority Interest', 'Total Equity', 'Total Liabilities & Equity', 'Total weighted average shares outstanding, basic', 'Total weighted average shares outstanding, diluted', 'Net Change in Long Term Investment', 'Research & Development', 'Short Term Investments', 'Prepaid Expenses', 'Long Term Investments & Receivables', 'Intangible Assets', 'Stock-Based Compensation', 'Disposition of Fixed Assets', 'Other Change in Fixed Assets & Intangibles', 'Decrease in Long Term Investment', 'Increase in Long Term Investment', 'Income (Loss) from Affiliates', 'Discontinued Operations', 'Miscellaneous Short Term Liabilities', 'Preferred Equity', 'Preferred Dividends', 'Other Investment Income (Loss)', 'Prepaid Pension Costs', 'Pensions', 'Other Post-Retirement Benefits', 'Notes Receivable, Net', 'Long Term Borrowings', 'Long Term Investments', 'Long Term Receivables', 'Sales & Services Revenue', 'Selling & Marketing', 'General & Administrative', 'Impairment of Goodwill & Intangibles', 'Accrued Liabilities', 'Net Cash from Divestitures', 'Interest Expense', 'Discontinued Operations.3', 'Discontinued Operations.4', 'Interest Income', 'Derivative & Hedging Assets', 'Cost of Financing Revenue', 'Long Term Capital Leases', 'Share Price', 'Market Cap', 'EV', 'EBITDA', 'FCF', 'Gross Margin', 'Net Margin', 'EPS', 'Book Value Per Share', 'FCF Per Share', 'P/S Ratio', 'EV/EBITDA', 'EV/Sales', 'EV/FCF', 'Book to Market Value', 'Revenue(Y)', 'Income(Y)']\n"
     ]
    }
   ],
   "source": [
    "# Create correlation matrix\n",
    "corr_matrix = df._get_numeric_data().corr().abs()\n",
    "\n",
    "# Select upper triangle of correlation matrix\n",
    "upper = corr_matrix.where(np.triu(np.ones(corr_matrix.shape), k=1).astype(np.bool))\n",
    "\n",
    "# Find index of feature columns with correlation greater than 0.70\n",
    "to_drop = [column for column in upper.columns if any(upper[column] > 0.7)]\n",
    "\n",
    "print('Dropping following columns due to high correlation')\n",
    "print(to_drop)"
   ]
  },
  {
   "cell_type": "code",
   "execution_count": 7,
   "metadata": {},
   "outputs": [],
   "source": [
    "to_drop.remove('Revenue(Y)')\n",
    "to_drop.remove('Income(Y)')"
   ]
  },
  {
   "cell_type": "code",
   "execution_count": 8,
   "metadata": {},
   "outputs": [],
   "source": [
    "df = df.drop(to_drop, axis =1)"
   ]
  },
  {
   "cell_type": "code",
   "execution_count": 9,
   "metadata": {},
   "outputs": [],
   "source": [
    "X_train, y_train = df.drop(columns=['Revenue(Y)', 'Income(Y)']).iloc[:30], df['Revenue(Y)'].iloc[:30]\n",
    "X_test, y_test = df.drop(columns=['Revenue(Y)', 'Income(Y)' ]).iloc[30:36],  df['Revenue(Y)'].iloc[30:36]"
   ]
  },
  {
   "cell_type": "code",
   "execution_count": 10,
   "metadata": {},
   "outputs": [
    {
     "data": {
      "text/plain": [
       "Lasso(alpha=0.1, copy_X=True, fit_intercept=True, max_iter=1000,\n",
       "   normalize=False, positive=False, precompute=False, random_state=None,\n",
       "   selection='cyclic', tol=0.0001, warm_start=False)"
      ]
     },
     "execution_count": 10,
     "metadata": {},
     "output_type": "execute_result"
    }
   ],
   "source": [
    "from sklearn.linear_model import Lasso\n",
    "regr = Lasso(alpha=0.1)\n",
    "\n",
    "regr.fit(X_train,y_train)"
   ]
  },
  {
   "cell_type": "code",
   "execution_count": 11,
   "metadata": {},
   "outputs": [],
   "source": [
    "y_pred = regr.predict(X_test)"
   ]
  },
  {
   "cell_type": "code",
   "execution_count": 12,
   "metadata": {},
   "outputs": [],
   "source": [
    "import matplotlib.pyplot as plt\n",
    "import pandas as pd\n",
    "from sklearn import linear_model\n",
    "from sklearn.metrics import mean_squared_error, r2_score\n",
    "pd.options.display.max_rows = 999"
   ]
  },
  {
   "cell_type": "code",
   "execution_count": 13,
   "metadata": {},
   "outputs": [
    {
     "name": "stdout",
     "output_type": "stream",
     "text": [
      "Coefficients: \n",
      " [ 0.00000000e+00  0.00000000e+00 -0.00000000e+00  0.00000000e+00\n",
      " -0.00000000e+00  0.00000000e+00 -0.00000000e+00  0.00000000e+00\n",
      " -0.00000000e+00  0.00000000e+00  0.00000000e+00  0.00000000e+00\n",
      "  0.00000000e+00  0.00000000e+00 -0.00000000e+00  0.00000000e+00\n",
      " -0.00000000e+00 -0.00000000e+00 -0.00000000e+00  0.00000000e+00\n",
      " -0.00000000e+00 -0.00000000e+00  0.00000000e+00  0.00000000e+00\n",
      " -0.00000000e+00 -0.00000000e+00  0.00000000e+00  0.00000000e+00\n",
      "  0.00000000e+00  0.00000000e+00  0.00000000e+00  0.00000000e+00\n",
      "  0.00000000e+00  0.00000000e+00  0.00000000e+00  0.00000000e+00\n",
      "  0.00000000e+00  0.00000000e+00  0.00000000e+00  0.00000000e+00\n",
      "  0.00000000e+00  0.00000000e+00  0.00000000e+00  0.00000000e+00\n",
      "  0.00000000e+00  0.00000000e+00  0.00000000e+00  0.00000000e+00\n",
      "  0.00000000e+00  0.00000000e+00  0.00000000e+00  0.00000000e+00\n",
      "  0.00000000e+00  0.00000000e+00  0.00000000e+00  0.00000000e+00\n",
      "  0.00000000e+00  0.00000000e+00  0.00000000e+00  0.00000000e+00\n",
      "  0.00000000e+00  0.00000000e+00  0.00000000e+00  0.00000000e+00\n",
      "  0.00000000e+00  0.00000000e+00  0.00000000e+00  0.00000000e+00\n",
      "  0.00000000e+00  0.00000000e+00  0.00000000e+00  0.00000000e+00\n",
      "  0.00000000e+00  0.00000000e+00  0.00000000e+00  0.00000000e+00\n",
      "  0.00000000e+00  0.00000000e+00  0.00000000e+00  0.00000000e+00\n",
      "  0.00000000e+00  0.00000000e+00  0.00000000e+00  0.00000000e+00\n",
      "  0.00000000e+00  0.00000000e+00  0.00000000e+00  0.00000000e+00\n",
      "  0.00000000e+00  0.00000000e+00  0.00000000e+00  0.00000000e+00\n",
      "  0.00000000e+00  0.00000000e+00  0.00000000e+00  0.00000000e+00\n",
      "  0.00000000e+00  0.00000000e+00  0.00000000e+00  0.00000000e+00\n",
      "  0.00000000e+00  0.00000000e+00  0.00000000e+00  0.00000000e+00\n",
      "  0.00000000e+00  0.00000000e+00  0.00000000e+00  0.00000000e+00\n",
      "  0.00000000e+00  0.00000000e+00  0.00000000e+00  0.00000000e+00\n",
      "  0.00000000e+00  0.00000000e+00  0.00000000e+00  0.00000000e+00\n",
      "  0.00000000e+00  0.00000000e+00  0.00000000e+00  0.00000000e+00\n",
      "  0.00000000e+00  0.00000000e+00  0.00000000e+00  0.00000000e+00\n",
      "  0.00000000e+00  0.00000000e+00  0.00000000e+00  0.00000000e+00\n",
      "  0.00000000e+00  0.00000000e+00  0.00000000e+00  0.00000000e+00\n",
      "  0.00000000e+00  0.00000000e+00  0.00000000e+00  0.00000000e+00\n",
      "  0.00000000e+00  0.00000000e+00  0.00000000e+00  0.00000000e+00\n",
      "  0.00000000e+00  0.00000000e+00  0.00000000e+00  0.00000000e+00\n",
      "  0.00000000e+00  0.00000000e+00  0.00000000e+00  0.00000000e+00\n",
      "  0.00000000e+00  0.00000000e+00  0.00000000e+00  0.00000000e+00\n",
      "  0.00000000e+00  0.00000000e+00  0.00000000e+00  0.00000000e+00\n",
      "  0.00000000e+00  0.00000000e+00  0.00000000e+00  0.00000000e+00\n",
      "  0.00000000e+00  0.00000000e+00  0.00000000e+00  0.00000000e+00\n",
      "  0.00000000e+00  0.00000000e+00  0.00000000e+00  0.00000000e+00\n",
      "  0.00000000e+00  0.00000000e+00  0.00000000e+00  0.00000000e+00\n",
      "  0.00000000e+00  0.00000000e+00  5.09618047e-04  0.00000000e+00\n",
      "  5.02412866e-03 -0.00000000e+00  0.00000000e+00 -0.00000000e+00\n",
      "  4.01593692e-05 -0.00000000e+00]\n",
      "Mean squared error: 0.00\n",
      "Variance score: -2.03\n"
     ]
    }
   ],
   "source": [
    "# The coefficients\n",
    "print('Coefficients: \\n', regr.coef_)\n",
    "# The mean squared error\n",
    "print(\"Mean squared error: %.2f\" % mean_squared_error(y_test, y_pred))\n",
    "# Explained variance score: 1 is perfect prediction\n",
    "print('Variance score: %.2f' % r2_score(y_test, y_pred))"
   ]
  },
  {
   "cell_type": "code",
   "execution_count": 14,
   "metadata": {},
   "outputs": [],
   "source": [
    "columns=list(df.drop(columns=['Revenue(Y)', 'Income(Y)']).columns)"
   ]
  },
  {
   "cell_type": "code",
   "execution_count": 15,
   "metadata": {},
   "outputs": [],
   "source": [
    "import numpy as np"
   ]
  },
  {
   "cell_type": "code",
   "execution_count": 16,
   "metadata": {},
   "outputs": [],
   "source": [
    "X=None\n",
    "y = []"
   ]
  },
  {
   "cell_type": "code",
   "execution_count": 17,
   "metadata": {},
   "outputs": [],
   "source": [
    "for i in range(len(df.index)-24):\n",
    "        \n",
    "        if df['Revenue(Y)'].iloc[-1-i] > 0:\n",
    "            temp = df[columns].iloc[-1].values\n",
    "            temp = np.append(df[columns].iloc[-2-i].values, temp)\n",
    "            temp = np.append(df[columns].iloc[-3-i].values, temp)\n",
    "            temp = np.append(df[columns].iloc[-4-i].values, temp)\n",
    "            temp = np.append(df[columns].iloc[-6-i].values, temp)\n",
    "            temp = np.append(df[columns].iloc[-8-i].values, temp)\n",
    "            temp = np.append(df[columns].iloc[-10-i].values, temp)\n",
    "            temp = np.append(df[columns].iloc[-12-i].values, temp)\n",
    "            temp = np.append(df[columns].iloc[-14-i].values, temp)\n",
    "            temp = np.append(df[columns].iloc[-16-i].values, temp)\n",
    "            if X is None:\n",
    "                X = temp\n",
    "            else:\n",
    "                X = np.vstack((temp, X))\n",
    "            y.append(df['Revenue(Y)'].iloc[-1-i])\n",
    "#             print(df[columns].iloc[-1-i], df['Revenue(Y)'].iloc[-1-i])"
   ]
  },
  {
   "cell_type": "code",
   "execution_count": 18,
   "metadata": {},
   "outputs": [],
   "source": [
    "def linear_regression(X_train, y_train, X_test, y_test):\n",
    "#     regr = linear_model.LinearRegression()\n",
    "#     regr = linear_model.Lasso(alpha=0.1)\n",
    "#     regr = linear_model.Ridge(alpha=.5)\n",
    "    regr = linear_model.ElasticNet(random_state=0)\n",
    "    # Train the model using the training sets\n",
    "    regr.fit(X_train, y_train)\n",
    "    # Make predictions using the testing set\n",
    "    y_pred = regr.predict(X_test)\n",
    "    # The coefficients\n",
    "    print('Coefficients: \\n', regr.coef_)\n",
    "    # The mean squared error\n",
    "    print(\"Mean squared error: %.2f\"\n",
    "          % mean_squared_error(y_test, y_pred))\n",
    "    # Explained variance score: 1 is perfect prediction\n",
    "    print('Variance score: %.2f' % r2_score(y_test, y_pred))\n",
    "\n",
    "# Plot outputs\n",
    "    plt.scatter(y_test, y_pred, color='black')\n",
    "    plt.plot(y_test, y_test, color='blue', linewidth=3)\n",
    "    plt.xlabel('Y(actual)')\n",
    "    plt.ylabel('Y(Predicted)')\n",
    "    plt.show()\n",
    "    \n",
    "    return regr, y_pred"
   ]
  },
  {
   "cell_type": "code",
   "execution_count": 19,
   "metadata": {},
   "outputs": [
    {
     "name": "stdout",
     "output_type": "stream",
     "text": [
      "Coefficients: \n",
      " [ 0.00000000e+00  0.00000000e+00 -0.00000000e+00  0.00000000e+00\n",
      "  0.00000000e+00  0.00000000e+00 -0.00000000e+00  0.00000000e+00\n",
      " -0.00000000e+00  0.00000000e+00  0.00000000e+00  0.00000000e+00\n",
      "  0.00000000e+00 -0.00000000e+00 -0.00000000e+00  0.00000000e+00\n",
      " -0.00000000e+00 -0.00000000e+00 -0.00000000e+00 -0.00000000e+00\n",
      " -0.00000000e+00 -0.00000000e+00  0.00000000e+00  0.00000000e+00\n",
      " -0.00000000e+00 -0.00000000e+00  0.00000000e+00  0.00000000e+00\n",
      "  0.00000000e+00  0.00000000e+00  0.00000000e+00  0.00000000e+00\n",
      "  0.00000000e+00  0.00000000e+00  0.00000000e+00  0.00000000e+00\n",
      "  0.00000000e+00  0.00000000e+00  0.00000000e+00  0.00000000e+00\n",
      "  0.00000000e+00  0.00000000e+00  0.00000000e+00  0.00000000e+00\n",
      "  0.00000000e+00  0.00000000e+00  0.00000000e+00  0.00000000e+00\n",
      "  0.00000000e+00  0.00000000e+00  0.00000000e+00  0.00000000e+00\n",
      "  0.00000000e+00  0.00000000e+00  0.00000000e+00  0.00000000e+00\n",
      "  0.00000000e+00  0.00000000e+00  0.00000000e+00  0.00000000e+00\n",
      "  0.00000000e+00  0.00000000e+00  0.00000000e+00  0.00000000e+00\n",
      "  0.00000000e+00  0.00000000e+00  0.00000000e+00  0.00000000e+00\n",
      "  0.00000000e+00  0.00000000e+00  0.00000000e+00  0.00000000e+00\n",
      "  0.00000000e+00  0.00000000e+00  0.00000000e+00  0.00000000e+00\n",
      "  0.00000000e+00  0.00000000e+00  0.00000000e+00  0.00000000e+00\n",
      "  0.00000000e+00  0.00000000e+00  0.00000000e+00  0.00000000e+00\n",
      "  0.00000000e+00  0.00000000e+00  0.00000000e+00  0.00000000e+00\n",
      "  0.00000000e+00  0.00000000e+00  0.00000000e+00  0.00000000e+00\n",
      "  0.00000000e+00  0.00000000e+00  0.00000000e+00  0.00000000e+00\n",
      "  0.00000000e+00  0.00000000e+00  0.00000000e+00  0.00000000e+00\n",
      "  0.00000000e+00  0.00000000e+00  0.00000000e+00  0.00000000e+00\n",
      "  0.00000000e+00  0.00000000e+00  0.00000000e+00  0.00000000e+00\n",
      "  0.00000000e+00  0.00000000e+00  0.00000000e+00  0.00000000e+00\n",
      "  0.00000000e+00  0.00000000e+00  0.00000000e+00  0.00000000e+00\n",
      "  0.00000000e+00  0.00000000e+00  0.00000000e+00  0.00000000e+00\n",
      "  0.00000000e+00  0.00000000e+00  0.00000000e+00  0.00000000e+00\n",
      "  0.00000000e+00  0.00000000e+00  0.00000000e+00  0.00000000e+00\n",
      "  0.00000000e+00  0.00000000e+00  0.00000000e+00  0.00000000e+00\n",
      "  0.00000000e+00  0.00000000e+00  0.00000000e+00  0.00000000e+00\n",
      "  0.00000000e+00  0.00000000e+00  0.00000000e+00  0.00000000e+00\n",
      "  0.00000000e+00  0.00000000e+00  0.00000000e+00  0.00000000e+00\n",
      "  0.00000000e+00  0.00000000e+00  0.00000000e+00  0.00000000e+00\n",
      "  0.00000000e+00  0.00000000e+00  0.00000000e+00  0.00000000e+00\n",
      "  0.00000000e+00  0.00000000e+00  0.00000000e+00  0.00000000e+00\n",
      "  0.00000000e+00  0.00000000e+00  0.00000000e+00  0.00000000e+00\n",
      "  0.00000000e+00  0.00000000e+00  0.00000000e+00  0.00000000e+00\n",
      "  0.00000000e+00  0.00000000e+00  0.00000000e+00  0.00000000e+00\n",
      "  0.00000000e+00  0.00000000e+00  0.00000000e+00  0.00000000e+00\n",
      "  0.00000000e+00  0.00000000e+00  0.00000000e+00  0.00000000e+00\n",
      "  0.00000000e+00  0.00000000e+00  0.00000000e+00  0.00000000e+00\n",
      "  2.29725734e-05  0.00000000e+00]\n",
      "Mean squared error: 0.01\n",
      "Variance score: -4.50\n"
     ]
    },
    {
     "data": {
      "image/png": "[encoded data removed]",
      "text/plain": [
       "<Figure size 432x288 with 1 Axes>"
      ]
     },
     "metadata": {
      "needs_background": "light"
     },
     "output_type": "display_data"
    },
    {
     "data": {
      "text/plain": [
       "(ElasticNet(alpha=1.0, copy_X=True, fit_intercept=True, l1_ratio=0.5,\n",
       "       max_iter=1000, normalize=False, positive=False, precompute=False,\n",
       "       random_state=0, selection='cyclic', tol=0.0001, warm_start=False),\n",
       " array([1.24539789, 1.24539665, 1.24540331, 1.24540556, 1.24540521,\n",
       "        1.24546856]))"
      ]
     },
     "execution_count": 19,
     "metadata": {},
     "output_type": "execute_result"
    }
   ],
   "source": [
    "linear_regression(X_train, y_train, X_test, y_test)\n"
   ]
  },
  {
   "cell_type": "code",
   "execution_count": 25,
   "metadata": {},
   "outputs": [],
   "source": [
    "from sklearn.model_selection import train_test_split\n",
    "X_train, X_test, y_train, y_test = train_test_split(np.nan_to_num(X), np.nan_to_num(y), test_size=0.33, random_state=42)"
   ]
  },
  {
   "cell_type": "code",
   "execution_count": 33,
   "metadata": {},
   "outputs": [],
   "source": [
    "# XGB Classifier\n",
    "from xgboost import XGBClassifier\n",
    "\n",
    "classifier = XGBClassifier( learning_rate =0.1,\n",
    " n_estimators=120,\n",
    " max_depth=4,\n",
    " num_class = 9,\n",
    " min_child_weight=10,\n",
    " gamma=1.5,\n",
    " subsample=0.8,\n",
    " colsample_bytree=0.6,\n",
    " objective= 'multi:softmax',\n",
    " nthread=4,\n",
    "#  scale_pos_weight=19,\n",
    " reg_lambda=5,\n",
    "max_delta_step=1,\n",
    " alpha=0,\n",
    " base_score=0.5,\n",
    " seed=1029)"
   ]
  },
  {
   "cell_type": "code",
   "execution_count": 34,
   "metadata": {},
   "outputs": [
    {
     "data": {
      "text/plain": [
       "XGBClassifier(alpha=0, base_score=0.5, booster='gbtree', colsample_bylevel=1,\n",
       "       colsample_bytree=0.6, gamma=1.5, learning_rate=0.1,\n",
       "       max_delta_step=1, max_depth=4, min_child_weight=10, missing=None,\n",
       "       n_estimators=120, n_jobs=1, nthread=4, num_class=9,\n",
       "       objective='multi:softprob', random_state=0, reg_alpha=0,\n",
       "       reg_lambda=5, scale_pos_weight=1, seed=1029, silent=True,\n",
       "       subsample=0.8)"
      ]
     },
     "execution_count": 34,
     "metadata": {},
     "output_type": "execute_result"
    }
   ],
   "source": [
    "classifier.fit(X_train, y_train)\n",
    "\n",
    "# Best hyperparameters:\n",
    "# {'subsample': 0.8, 'min_child_weight': 10, 'max_depth': 4, 'gamma': 1.5, 'colsample_bytree': 0.6}"
   ]
  },
  {
   "cell_type": "code",
   "execution_count": 35,
   "metadata": {},
   "outputs": [
    {
     "data": {
      "text/plain": [
       "array([2.94723376, 2.94723376, 2.94723376, 2.94723376, 2.94723376,\n",
       "       2.94723376, 2.94723376, 2.94723376, 2.94723376, 2.94723376,\n",
       "       2.94723376, 2.94723376, 2.94723376, 2.94723376, 2.94723376,\n",
       "       2.94723376, 2.94723376, 2.94723376, 2.94723376, 2.94723376,\n",
       "       2.94723376, 2.94723376, 2.94723376, 2.94723376, 2.94723376,\n",
       "       2.94723376, 2.94723376, 2.94723376, 2.94723376, 2.94723376,\n",
       "       2.94723376, 2.94723376, 2.94723376, 2.94723376, 2.94723376,\n",
       "       2.94723376, 2.94723376, 2.94723376, 2.94723376, 2.94723376,\n",
       "       2.94723376, 2.94723376, 2.94723376, 2.94723376, 2.94723376,\n",
       "       2.94723376, 2.94723376, 2.94723376, 2.94723376, 2.94723376,\n",
       "       2.94723376, 2.94723376, 2.94723376, 2.94723376, 2.94723376,\n",
       "       2.94723376, 2.94723376, 2.94723376, 2.94723376, 2.94723376,\n",
       "       2.94723376, 2.94723376, 2.94723376, 2.94723376, 2.94723376,\n",
       "       2.94723376, 2.94723376, 2.94723376, 2.94723376, 2.94723376,\n",
       "       2.94723376, 2.94723376, 2.94723376, 2.94723376, 2.94723376,\n",
       "       2.94723376, 2.94723376, 2.94723376, 2.94723376, 2.94723376,\n",
       "       2.94723376, 2.94723376, 2.94723376, 2.94723376, 2.94723376,\n",
       "       2.94723376, 2.94723376, 2.94723376, 2.94723376, 2.94723376,\n",
       "       2.94723376, 2.94723376, 2.94723376, 2.94723376, 2.94723376,\n",
       "       2.94723376, 2.94723376, 2.94723376, 2.94723376, 2.94723376,\n",
       "       2.94723376, 2.94723376, 2.94723376, 2.94723376, 2.94723376,\n",
       "       2.94723376, 2.94723376, 2.94723376, 2.94723376, 2.94723376,\n",
       "       2.94723376, 2.94723376, 2.94723376, 2.94723376, 2.94723376,\n",
       "       2.94723376, 2.94723376, 2.94723376, 2.94723376, 2.94723376,\n",
       "       2.94723376, 2.94723376, 2.94723376, 2.94723376, 2.94723376,\n",
       "       2.94723376, 2.94723376, 2.94723376, 2.94723376, 2.94723376,\n",
       "       2.94723376, 2.94723376, 2.94723376, 2.94723376, 2.94723376,\n",
       "       2.94723376, 2.94723376, 2.94723376, 2.94723376, 2.94723376,\n",
       "       2.94723376, 2.94723376, 2.94723376, 2.94723376, 2.94723376,\n",
       "       2.94723376, 2.94723376, 2.94723376, 2.94723376, 2.94723376,\n",
       "       2.94723376, 2.94723376, 2.94723376, 2.94723376, 2.94723376,\n",
       "       2.94723376, 2.94723376, 2.94723376, 2.94723376, 2.94723376,\n",
       "       2.94723376, 2.94723376, 2.94723376, 2.94723376, 2.94723376,\n",
       "       2.94723376, 2.94723376, 2.94723376, 2.94723376, 2.94723376,\n",
       "       2.94723376, 2.94723376, 2.94723376, 2.94723376, 2.94723376,\n",
       "       2.94723376, 2.94723376, 2.94723376, 2.94723376, 2.94723376,\n",
       "       2.94723376, 2.94723376, 2.94723376, 2.94723376, 2.94723376,\n",
       "       2.94723376, 2.94723376, 2.94723376, 2.94723376, 2.94723376,\n",
       "       2.94723376, 2.94723376, 2.94723376, 2.94723376, 2.94723376,\n",
       "       2.94723376, 2.94723376, 2.94723376, 2.94723376, 2.94723376,\n",
       "       2.94723376, 2.94723376, 2.94723376, 2.94723376, 2.94723376,\n",
       "       2.94723376, 2.94723376, 2.94723376, 2.94723376, 2.94723376,\n",
       "       2.94723376, 2.94723376, 2.94723376, 2.94723376, 2.94723376,\n",
       "       2.94723376, 2.94723376, 2.94723376, 2.94723376, 2.94723376,\n",
       "       2.94723376, 2.94723376, 2.94723376, 2.94723376, 2.94723376,\n",
       "       2.94723376, 2.94723376, 2.94723376, 2.94723376, 2.94723376])"
      ]
     },
     "execution_count": 35,
     "metadata": {},
     "output_type": "execute_result"
    }
   ],
   "source": [
    "# Predicting the Test set results\n",
    "y_pred = classifier.predict(X_test)\n",
    "y_pred"
   ]
  },
  {
   "cell_type": "code",
   "execution_count": 36,
   "metadata": {},
   "outputs": [
    {
     "name": "stdout",
     "output_type": "stream",
     "text": [
      "Mean squared error: 6.70\n",
      "Variance score: -0.23\n"
     ]
    }
   ],
   "source": [
    "print(\"Mean squared error: %.2f\" % mean_squared_error(y_test, y_pred))\n",
    "# Explained variance score: 1 is perfect prediction\n",
    "print('Variance score: %.2f' % r2_score(y_test, y_pred))\n"
   ]
  },
  {
   "cell_type": "code",
   "execution_count": 39,
   "metadata": {},
   "outputs": [],
   "source": [
    "# # print f1 score\n",
    "# from sklearn.metrics import f1_score\n",
    "# f1_score(y_test, y_pred)"
   ]
  },
  {
   "cell_type": "code",
   "execution_count": null,
   "metadata": {},
   "outputs": [],
   "source": []
  }
 ],
 "metadata": {
  "kernelspec": {
   "display_name": "Python 3",
   "language": "python",
   "name": "python3"
  },
  "language_info": {
   "codemirror_mode": {
    "name": "ipython",
    "version": 3
   },
   "file_extension": ".py",
   "mimetype": "text/x-python",
   "name": "python",
   "nbconvert_exporter": "python",
   "pygments_lexer": "ipython3",
   "version": "3.6.9"
  }
 },
 "nbformat": 4,
 "nbformat_minor": 2
}
